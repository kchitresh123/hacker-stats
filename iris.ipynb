{
 "cells": [
  {
   "cell_type": "markdown",
   "metadata": {},
   "source": [
    "# Jupyter configuration\n",
    "\n",
    "Inline matplotlib plots."
   ]
  },
  {
   "cell_type": "code",
   "execution_count": 48,
   "metadata": {},
   "outputs": [],
   "source": [
    "%matplotlib inline"
   ]
  },
  {
   "cell_type": "markdown",
   "metadata": {},
   "source": [
    "# Python configuration\n",
    "\n",
    "Import Python modules and set Seaborn as default style."
   ]
  },
  {
   "cell_type": "code",
   "execution_count": 49,
   "metadata": {},
   "outputs": [],
   "source": [
    "import numpy as np\n",
    "import pandas as pd\n",
    "import matplotlib.pyplot as plt\n",
    "import seaborn as sns\n",
    "\n",
    "from sklearn.datasets import load_iris\n",
    "\n",
    "# Set Seaborn style as default\n",
    "sns.set()\n",
    "\n",
    "# Set default figure size\n",
    "plt.rcParams[\"figure.figsize\"] = (16, 8)"
   ]
  },
  {
   "cell_type": "markdown",
   "metadata": {},
   "source": [
    "# Python utilities\n",
    "\n",
    "All functions defined in this section are prefixed with `nb_`."
   ]
  },
  {
   "cell_type": "code",
   "execution_count": 50,
   "metadata": {},
   "outputs": [],
   "source": [
    "def nb_str_title(s: str):\n",
    "    return s.title().replace(\"_\", \" \")\n",
    "\n",
    "def nb_plot_rotate_xlabel(fig, rotation: int):\n",
    "    fig.set_xticklabels(fig.get_xticklabels(), rotation=rotation)"
   ]
  },
  {
   "cell_type": "markdown",
   "metadata": {},
   "source": [
    "# Dataset overview\n",
    "\n",
    "Load sklearn iris dataset and print properties."
   ]
  },
  {
   "cell_type": "code",
   "execution_count": 51,
   "metadata": {},
   "outputs": [
    {
     "name": "stdout",
     "output_type": "stream",
     "text": [
      "sklearn iris type: <class 'sklearn.utils.Bunch'>\n",
      "sklearn iris attributes: ['DESCR', 'data', 'feature_names', 'target', 'target_names']\n",
      "\n",
      "sklearn iris [feature_names] type: <class 'list'>\n",
      "sklearn iris [feature_names] length: 4\n",
      "sklearn iris [feature_names] values: ['sepal length (cm)', 'sepal width (cm)', 'petal length (cm)', 'petal width (cm)']\n",
      "\n",
      "sklearn iris [data] type: <class 'numpy.ndarray'>\n",
      "sklearn iris [data] size: 600\n",
      "sklearn iris [data] shape: (150, 4)\n",
      "\n",
      "sklearn iris [target_names] type: <class 'numpy.ndarray'>\n",
      "sklearn iris [target_names] size: 3\n",
      "sklearn iris [target_names] shape: (3,)\n",
      "sklearn iris [target_names] values: ['setosa' 'versicolor' 'virginica']\n",
      "\n",
      "sklearn iris [target] type: <class 'numpy.ndarray'>\n",
      "sklearn iris [target] size: 150\n",
      "sklearn iris [target] shape: (150,)\n"
     ]
    }
   ],
   "source": [
    "iris = load_iris()\n",
    "\n",
    "print(f\"sklearn iris type: {type(iris)}\")\n",
    "print(f\"sklearn iris attributes: {dir(iris)}\")\n",
    "\n",
    "print()\n",
    "\n",
    "print(f\"sklearn iris [feature_names] type: {type(iris['feature_names'])}\")\n",
    "print(f\"sklearn iris [feature_names] length: {len(iris['feature_names'])}\")\n",
    "print(f\"sklearn iris [feature_names] values: {iris['feature_names']}\")\n",
    "\n",
    "print()\n",
    "\n",
    "print(f\"sklearn iris [data] type: {type(iris['data'])}\")\n",
    "print(f\"sklearn iris [data] size: {iris['data'].size}\")\n",
    "print(f\"sklearn iris [data] shape: {iris['data'].shape}\")\n",
    "\n",
    "print()\n",
    "\n",
    "print(f\"sklearn iris [target_names] type: {type(iris['target_names'])}\")\n",
    "print(f\"sklearn iris [target_names] size: {iris['target_names'].size}\")\n",
    "print(f\"sklearn iris [target_names] shape: {iris['target_names'].shape}\")\n",
    "print(f\"sklearn iris [target_names] values: {iris['target_names']}\")\n",
    "\n",
    "print()\n",
    "\n",
    "print(f\"sklearn iris [target] type: {type(iris['target'])}\")\n",
    "print(f\"sklearn iris [target] size: {iris['target'].size}\")\n",
    "print(f\"sklearn iris [target] shape: {iris['target'].shape}\")"
   ]
  },
  {
   "cell_type": "markdown",
   "metadata": {},
   "source": [
    "# DataFrame conversion\n",
    "\n",
    "Convert sklearn `Bunch` dataset to pandas `DataFrame` format and print a random sample."
   ]
  },
  {
   "cell_type": "code",
   "execution_count": 52,
   "metadata": {},
   "outputs": [
    {
     "name": "stdout",
     "output_type": "stream",
     "text": [
      "<class 'pandas.core.frame.DataFrame'>\n",
      "RangeIndex: 150 entries, 0 to 149\n",
      "Data columns (total 5 columns):\n",
      "target          150 non-null category\n",
      "sepal_length    150 non-null float64\n",
      "sepal_width     150 non-null float64\n",
      "petal_length    150 non-null float64\n",
      "petal_width     150 non-null float64\n",
      "dtypes: category(1), float64(4)\n",
      "memory usage: 5.0 KB\n"
     ]
    },
    {
     "data": {
      "text/html": [
       "<div>\n",
       "<style scoped>\n",
       "    .dataframe tbody tr th:only-of-type {\n",
       "        vertical-align: middle;\n",
       "    }\n",
       "\n",
       "    .dataframe tbody tr th {\n",
       "        vertical-align: top;\n",
       "    }\n",
       "\n",
       "    .dataframe thead th {\n",
       "        text-align: right;\n",
       "    }\n",
       "</style>\n",
       "<table border=\"1\" class=\"dataframe\">\n",
       "  <thead>\n",
       "    <tr style=\"text-align: right;\">\n",
       "      <th></th>\n",
       "      <th>target</th>\n",
       "      <th>sepal_length</th>\n",
       "      <th>sepal_width</th>\n",
       "      <th>petal_length</th>\n",
       "      <th>petal_width</th>\n",
       "    </tr>\n",
       "    <tr>\n",
       "      <th>index</th>\n",
       "      <th></th>\n",
       "      <th></th>\n",
       "      <th></th>\n",
       "      <th></th>\n",
       "      <th></th>\n",
       "    </tr>\n",
       "  </thead>\n",
       "  <tbody>\n",
       "    <tr>\n",
       "      <th>38</th>\n",
       "      <td>setosa</td>\n",
       "      <td>4.4</td>\n",
       "      <td>3.0</td>\n",
       "      <td>1.3</td>\n",
       "      <td>0.2</td>\n",
       "    </tr>\n",
       "    <tr>\n",
       "      <th>48</th>\n",
       "      <td>setosa</td>\n",
       "      <td>5.3</td>\n",
       "      <td>3.7</td>\n",
       "      <td>1.5</td>\n",
       "      <td>0.2</td>\n",
       "    </tr>\n",
       "    <tr>\n",
       "      <th>49</th>\n",
       "      <td>setosa</td>\n",
       "      <td>5.0</td>\n",
       "      <td>3.3</td>\n",
       "      <td>1.4</td>\n",
       "      <td>0.2</td>\n",
       "    </tr>\n",
       "    <tr>\n",
       "      <th>53</th>\n",
       "      <td>versicolor</td>\n",
       "      <td>5.5</td>\n",
       "      <td>2.3</td>\n",
       "      <td>4.0</td>\n",
       "      <td>1.3</td>\n",
       "    </tr>\n",
       "    <tr>\n",
       "      <th>54</th>\n",
       "      <td>versicolor</td>\n",
       "      <td>6.5</td>\n",
       "      <td>2.8</td>\n",
       "      <td>4.6</td>\n",
       "      <td>1.5</td>\n",
       "    </tr>\n",
       "    <tr>\n",
       "      <th>58</th>\n",
       "      <td>versicolor</td>\n",
       "      <td>6.6</td>\n",
       "      <td>2.9</td>\n",
       "      <td>4.6</td>\n",
       "      <td>1.3</td>\n",
       "    </tr>\n",
       "    <tr>\n",
       "      <th>76</th>\n",
       "      <td>versicolor</td>\n",
       "      <td>6.8</td>\n",
       "      <td>2.8</td>\n",
       "      <td>4.8</td>\n",
       "      <td>1.4</td>\n",
       "    </tr>\n",
       "    <tr>\n",
       "      <th>77</th>\n",
       "      <td>versicolor</td>\n",
       "      <td>6.7</td>\n",
       "      <td>3.0</td>\n",
       "      <td>5.0</td>\n",
       "      <td>1.7</td>\n",
       "    </tr>\n",
       "    <tr>\n",
       "      <th>141</th>\n",
       "      <td>virginica</td>\n",
       "      <td>6.9</td>\n",
       "      <td>3.1</td>\n",
       "      <td>5.1</td>\n",
       "      <td>2.3</td>\n",
       "    </tr>\n",
       "    <tr>\n",
       "      <th>144</th>\n",
       "      <td>virginica</td>\n",
       "      <td>6.7</td>\n",
       "      <td>3.3</td>\n",
       "      <td>5.7</td>\n",
       "      <td>2.5</td>\n",
       "    </tr>\n",
       "  </tbody>\n",
       "</table>\n",
       "</div>"
      ],
      "text/plain": [
       "           target  sepal_length  sepal_width  petal_length  petal_width\n",
       "index                                                                  \n",
       "38         setosa           4.4          3.0           1.3          0.2\n",
       "48         setosa           5.3          3.7           1.5          0.2\n",
       "49         setosa           5.0          3.3           1.4          0.2\n",
       "53     versicolor           5.5          2.3           4.0          1.3\n",
       "54     versicolor           6.5          2.8           4.6          1.5\n",
       "58     versicolor           6.6          2.9           4.6          1.3\n",
       "76     versicolor           6.8          2.8           4.8          1.4\n",
       "77     versicolor           6.7          3.0           5.0          1.7\n",
       "141     virginica           6.9          3.1           5.1          2.3\n",
       "144     virginica           6.7          3.3           5.7          2.5"
      ]
     },
     "execution_count": 52,
     "metadata": {},
     "output_type": "execute_result"
    }
   ],
   "source": [
    "# Convert sklearn Bunch object to a pandas DataFrame object\n",
    "df_data = np.c_[iris[\"data\"], iris[\"target\"]]\n",
    "df_columns: object = iris[\"feature_names\"] + [\"target\"]\n",
    "df = pd.DataFrame(data=df_data, columns=df_columns)\n",
    "\n",
    "# Set DataFrame index column name\n",
    "df.index.name = \"index\"\n",
    "\n",
    "# Rename columns\n",
    "df.rename(columns={\n",
    "    \"sepal length (cm)\": \"sepal_length\",\n",
    "    \"sepal width (cm)\": \"sepal_width\",\n",
    "    \"petal length (cm)\": \"petal_length\",\n",
    "    \"petal width (cm)\": \"petal_width\",\n",
    "}, inplace=True)\n",
    "\n",
    "# Move the last [target] column to the first position\n",
    "df_columns = df.columns.tolist()\n",
    "df_columns = df_columns[-1:] + df_columns[:-1]\n",
    "df = df[df_columns]\n",
    "\n",
    "# Convert [target] column to a category\n",
    "df.target = df.target.astype(int)\n",
    "df.target = df.target.apply(str)\n",
    "df.target = df.target.map({\"0\": \"setosa\", \"1\": \"versicolor\", \"2\": \"virginica\"})\n",
    "df.target = df.target.astype(\"category\")\n",
    "\n",
    "# Print properties and a random sample\n",
    "df.info()\n",
    "df.sample(10).sort_values(by=df.index.name)\n"
   ]
  },
  {
   "cell_type": "markdown",
   "metadata": {},
   "source": [
    "# Exploratory Data Analysis (EDA)"
   ]
  },
  {
   "cell_type": "markdown",
   "metadata": {},
   "source": [
    "## Features overview"
   ]
  },
  {
   "cell_type": "code",
   "execution_count": 53,
   "metadata": {},
   "outputs": [
    {
     "data": {
      "image/png": "[encoded data removed]",
      "text/plain": [
       "<Figure size 1152x576 with 1 Axes>"
      ]
     },
     "metadata": {},
     "output_type": "display_data"
    }
   ],
   "source": [
    "df_melt = pd.melt(\n",
    "    frame=df,\n",
    "    id_vars=\"target\",\n",
    "    value_vars=[\n",
    "        \"sepal_length\",\n",
    "        \"sepal_width\",\n",
    "        \"petal_length\",\n",
    "        \"petal_width\",\n",
    "    ]\n",
    ")\n",
    "df_melt.index.name = \"index\"\n",
    "df_melt.variable = df_melt.variable.apply(nb_str_title)\n",
    "\n",
    "fig = sns.boxplot(x=\"variable\", y=\"value\", hue=\"target\", data=df_melt)\n",
    "nb_plot_rotate_xlabel(fig, rotation=45)\n",
    "\n",
    "plt.xlabel(\"Feature\")\n",
    "plt.ylabel(\"Length (cm)\")\n",
    "\n",
    "plt.show(fig)"
   ]
  }
 ],
 "metadata": {
  "kernelspec": {
   "display_name": "Python 3",
   "language": "python",
   "name": "python3"
  },
  "language_info": {
   "codemirror_mode": {
    "name": "ipython",
    "version": 3
   },
   "file_extension": ".py",
   "mimetype": "text/x-python",
   "name": "python",
   "nbconvert_exporter": "python",
   "pygments_lexer": "ipython3",
   "version": "3.6.6"
  }
 },
 "nbformat": 4,
 "nbformat_minor": 2
}
